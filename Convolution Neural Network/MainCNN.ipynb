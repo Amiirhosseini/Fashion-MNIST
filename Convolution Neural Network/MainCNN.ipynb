{
  "cells": [
    {
      "cell_type": "markdown",
      "metadata": {},
      "source": [
        "Amirreza Hosseini </br> \n",
        "HW3-Q1"
      ]
    },
    {
      "cell_type": "markdown",
      "metadata": {
        "id": "yNNZVoh8HzCo"
      },
      "source": [
        "ابتدا کتابخانه های مورد نیاز را ایمپورت میکنیم\n",
        "این کتابخانه ها عبارتند از : \n",
        "\n",
        "\n",
        "*   numpy\n",
        "*   matplotlib\n",
        "*   `torch`\n",
        "*   ignite(در مورد این کتابخانه توضیح خواهم داد)\n"
      ]
    },
    {
      "cell_type": "code",
      "execution_count": 11,
      "metadata": {
        "id": "dqnTXEtOQMIE"
      },
      "outputs": [],
      "source": [
        "import matplotlib.pyplot as plt\n",
        "import numpy as np\n",
        "import seaborn as sns\n",
        "import torch\n",
        "from torch import nn, optim\n",
        "import torch.nn.functional as F\n",
        "from torch.utils.data import DataLoader\n",
        "from torchvision import datasets, transforms\n",
        "import torchvision"
      ]
    },
    {
      "cell_type": "code",
      "execution_count": 12,
      "metadata": {
        "colab": {
          "base_uri": "https://localhost:8080/"
        },
        "id": "L5CkvGiruVlG",
        "outputId": "d2233c2e-3e79-4a26-f131-e9d70bfb43d5"
      },
      "outputs": [
        {
          "name": "stdout",
          "output_type": "stream",
          "text": [
            "Looking in indexes: https://pypi.org/simple, https://us-python.pkg.dev/colab-wheels/public/simple/\n",
            "Requirement already satisfied: pytorch-ignite in /usr/local/lib/python3.7/dist-packages (0.4.9)\n",
            "Requirement already satisfied: packaging in /usr/local/lib/python3.7/dist-packages (from pytorch-ignite) (21.3)\n",
            "Requirement already satisfied: torch<2,>=1.3 in /usr/local/lib/python3.7/dist-packages (from pytorch-ignite) (1.11.0+cu113)\n",
            "Requirement already satisfied: typing-extensions in /usr/local/lib/python3.7/dist-packages (from torch<2,>=1.3->pytorch-ignite) (4.2.0)\n",
            "Requirement already satisfied: pyparsing!=3.0.5,>=2.0.2 in /usr/local/lib/python3.7/dist-packages (from packaging->pytorch-ignite) (3.0.9)\n"
          ]
        }
      ],
      "source": [
        "!pip install pytorch-ignite\n",
        "\n",
        "from ignite.engine import Events, create_supervised_trainer, create_supervised_evaluator\n",
        "from ignite.metrics import Accuracy, Loss, RunningAverage, ConfusionMatrix\n",
        "from ignite.handlers import ModelCheckpoint, EarlyStopping"
      ]
    },
    {
      "cell_type": "markdown",
      "metadata": {
        "id": "XtJFmy4EI2pc"
      },
      "source": [
        "# ####\n",
        "\n",
        "<div dir=rtl>\n",
        "در این قسمت دیتاست گفته شده را دانلود کردیم(با استفاده از خود کتابخانه پایتورچ) و برای اینکه فرآیند خواندن دیتاست سریع تر و بهینه تر باشد از \n",
        "DataLoader\n",
        "استفاده کردیم.\n",
        "\n",
        "همچنین  قسمت تست آنرا به دو دسته ۵۰۰۰ تایی تقسیم کردیم که یکی برای\n",
        "Validation\n",
        "و دیگر برای\n",
        "Test\n",
        "استفاده خواهد شد.\n",
        "همچنین سایز \n",
        "Batch\n",
        "هایی که از مموری فراخوانی خواهند شد را نیز ۱۲۸ قرار دادیم\n",
        "</div>\n"
      ]
    },
    {
      "cell_type": "code",
      "execution_count": 13,
      "metadata": {
        "id": "Y2dqyxnr6psU"
      },
      "outputs": [],
      "source": [
        "\n",
        "transform = transforms.Compose([transforms.ToTensor()])\n",
        "\n",
        "\n",
        "\n",
        "\n",
        "trainset = datasets.FashionMNIST('./data', download=True, train=True, transform=transform)\n",
        "train_loader = DataLoader(trainset, batch_size=128, shuffle=True)\n",
        "\n",
        "\n",
        "validationTestset = datasets.FashionMNIST('./data', download=True, train=False, transform=transform)\n",
        "\n",
        "\n",
        "\n",
        "cross_set,test_set=torch.utils.data.random_split(validationTestset,[5000 ,5000])\n",
        "\n",
        "val_loader=DataLoader(cross_set, batch_size=128, shuffle=True)\n",
        "test_loader=DataLoader(test_set, batch_size=128, shuffle=True)\n"
      ]
    },
    {
      "cell_type": "markdown",
      "metadata": {
        "id": "LKKb2gVJLoIH"
      },
      "source": [
        "# ####\n",
        "\n",
        "<div dir=rtl>\n",
        "\n",
        "\n",
        "این قسمت  ، قسمت تعریف مدل است که تعیین میکنیم شبکه \n",
        "CNN\n",
        "ما چگونه باشد.\n",
        "\n",
        "در ابتدایی این شبکه ابتدا یک لایه کانولوشنی داریم که اندازه کرنل آن ۳ در ۳ است و ۳۲ عدد کرنل داریم.\n",
        "\n",
        "خروجی این لایه به یک لایه \n",
        "Batch Normalization\n",
        "داده میشود که مقداری از \n",
        "overFit \n",
        "شدن مدل جلو گیری کند.\n",
        "\n",
        "سپس برای غیرخطی شدن مدل آن را به یک تابع فعالساز \n",
        "Relu\n",
        "میدهیم و بعد از آن ، روی خروجی \n",
        "Maxpool\n",
        "با اندازه ۲ و \n",
        "stride = 2\n",
        "اهمال میکنیم.\n",
        "\n",
        "در قسمت بعد دوباره یک لایه کانولوشنی داریم که تعداد کرنل هایش ۶۴ است و سایز این کرنل ها ۳ در ۳ است.\n",
        "دوباره همانند قبل  \n",
        "Feature Maps\n",
        "های بدست آمده را به یک لایه \n",
        "Batch Normalization\n",
        "میدهیم و خروجی آنرا به \n",
        "Relu\n",
        "میدهیم و در انتها بر روی آن\n",
        "Maxpool \n",
        "اعمال میکنیم.\n",
        "\n",
        "بعد از آن یک قسمت\n",
        "Fully Contected\n",
        "داریم که در ابتدا در لایه اولش ۶۰۰ نورون ، در لایه دومش ۳۰۰ نورون و در لایه سوم ، ۷۰ نورون و در آخرین لایه \n",
        "۱۰ نورون که به اندازه خروجی است نورون داریم.\n",
        "\n",
        "\n",
        "</div>"
      ]
    },
    {
      "cell_type": "code",
      "execution_count": 14,
      "metadata": {
        "id": "twnbgBEuPR7B"
      },
      "outputs": [],
      "source": [
        "class CNN(nn.Module):\n",
        "    \n",
        "    def __init__(self):\n",
        "        super(CNN, self).__init__()\n",
        "        \n",
        "        self.convlayer1 = nn.Sequential(\n",
        "            nn.Conv2d(1, 32, 3,padding=1),\n",
        "            nn.BatchNorm2d(32),\n",
        "            nn.ReLU(),\n",
        "            nn.MaxPool2d(kernel_size=2, stride=2)\n",
        "        )\n",
        "        \n",
        "        self.convlayer2 = nn.Sequential(\n",
        "            nn.Conv2d(32,64,3),\n",
        "            nn.BatchNorm2d(64),\n",
        "            nn.ReLU(),\n",
        "            nn.MaxPool2d(2)\n",
        "        )\n",
        "        self.linearLayer=nn.Sequential(\n",
        "            nn.Linear(64*6*6,600),\n",
        "            \n",
        "            nn.Linear(600, 300),\n",
        "            nn.ReLU(),\n",
        "            nn.Linear(300, 70),\n",
        "            nn.ReLU(),\n",
        "            nn.Linear(70, 10)\n",
        "        )\n",
        "\n",
        "        \n",
        "    def forward(self, x):\n",
        "        x = self.convlayer1(x)\n",
        "        x = self.convlayer2(x)\n",
        "        x = x.view(-1,64*6*6)\n",
        "        x=self.linearLayer(x)\n",
        "\n",
        "        \n",
        "        return F.log_softmax(x,dim=1)"
      ]
    },
    {
      "cell_type": "markdown",
      "metadata": {
        "id": "MXCUy6e0P1ZK"
      },
      "source": [
        "# ####\n",
        "\n",
        "<div dir=rtl>\n",
        "\n",
        "\n",
        "در این قسمت یک ابجکت از روی مدل میسازیم و سپس در صورتی که \n",
        "gpu\n",
        "در اختیارمان باشد ، انرا بر روی \n",
        "gpu \n",
        "قرار میدهیم و در غیر اینصورت از \n",
        "cpu\n",
        "استفاده میکنیم.\n",
        "\n",
        "همجنین برای \n",
        "optimizer\n",
        "از\n",
        "Adam\n",
        "با نرخ یادگیری ۰.۰۰۱\n",
        "استفاده شده است \n",
        "و تابع Loss\n",
        "هم\n",
        "CE\n",
        "انتخاب شده است.\n",
        "</div>"
      ]
    },
    {
      "cell_type": "code",
      "execution_count": 15,
      "metadata": {
        "id": "tMujDe8lcBnj"
      },
      "outputs": [],
      "source": [
        "# creating model,and defining optimizer and loss\n",
        "model = CNN()\n",
        "# moving model to gpu if available\n",
        "device = torch.device(\"cuda:0\" if torch.cuda.is_available() else \"cpu\")\n",
        "model.to(device)\n",
        "optimizer = optim.Adam(model.parameters(), lr=0.001)\n",
        "criterion = nn.CrossEntropyLoss()"
      ]
    },
    {
      "cell_type": "markdown",
      "metadata": {
        "id": "w03x4jyjQVjU"
      },
      "source": [
        "# ####\n",
        "\n",
        "<div dir=rtl>\n",
        "\n",
        "\n",
        "در این قسمت برای \n",
        "train\n",
        "شدن این مدل ۵ ایپاک در نظر گرفته شده است.\n",
        "\n",
        "اما همانطور که گفته شد در این تمرین  از\n",
        "ignite\n",
        "استفاده کردم.\n",
        "کاری که این کتابخانه میکند ، این است که به عنوان یک \n",
        "wrapper\n",
        "سطح بالا عمل میکند و دیگر نیازی نیست که به صورت دستی اعمالی نظیر محاسبه مشتق یا صفر شدن گرادیان یا محاسبه شدن loss\n",
        "را انجام دهیم.\n",
        "\n",
        "در این قسمت هم برای هر کدام از موارد\n",
        "train, validation , test\n",
        "یک evaluator\n",
        "ساخته ام که میتوان از آن برای محاسبه \n",
        "metric\n",
        "ها استفاده کرد.\n",
        "</div>"
      ]
    },
    {
      "cell_type": "code",
      "execution_count": 16,
      "metadata": {
        "id": "f9zvcHJYwHpr"
      },
      "outputs": [],
      "source": [
        "# defining the number of epochs\n",
        "epochs = 7\n",
        "# creating trainer,evaluator\n",
        "trainer = create_supervised_trainer(model, optimizer, criterion, device=device)\n",
        "metrics = {\n",
        "    'accuracy':Accuracy(),\n",
        "    'nll':Loss(criterion),\n",
        "    'cm':ConfusionMatrix(num_classes=10)\n",
        "}\n",
        "\n",
        "train_evaluator = create_supervised_evaluator(model, metrics=metrics, device=device)\n",
        "val_evaluator = create_supervised_evaluator(model, metrics=metrics, device=device)\n",
        "test_evaluator = create_supervised_evaluator(model, metrics=metrics, device=device)\n",
        "\n",
        "training_history = {'accuracy':[],'loss':[]}\n",
        "validation_history = {'accuracy':[],'loss':[]}\n",
        "last_epoch = []"
      ]
    },
    {
      "cell_type": "code",
      "execution_count": 17,
      "metadata": {
        "id": "uWcqWtHcztfT"
      },
      "outputs": [],
      "source": [
        "# RunningAverage(output_transform=lambda x: x).attach(trainer, 'loss')"
      ]
    },
    {
      "cell_type": "markdown",
      "metadata": {
        "id": "JLF9KPeaRMwF"
      },
      "source": [
        "# ####\n",
        "\n",
        "<div dir=rtl>\n",
        "\n",
        "\n",
        "در این قسمت برای \n",
        "Event\n",
        "پایان یافتن یک ایپاک چند هندلر تعریف کرده ام : \n",
        "که به ترتیب : \n",
        "\n",
        "* هنگامی که ایپاک تمام شد ، با مدلی که تا آن مرحله بدست آمده \n",
        "metric\n",
        "ها را بر روی داده های تست بدست میاوریم و درون دیکشنری ای قرار میدهیم\n",
        "\n",
        "* در هندلر دوم هنگامی که ایپاک به پایان رسید ، مدل را بر روی داده های validation\n",
        "ارزیابی میکنیم . \n",
        "</div>"
      ]
    },
    {
      "cell_type": "code",
      "execution_count": 18,
      "metadata": {
        "id": "JGdna3VO0KH4"
      },
      "outputs": [],
      "source": [
        "@trainer.on(Events.EPOCH_COMPLETED)\n",
        "def log_training_results(trainer):\n",
        "    train_evaluator.run(train_loader)\n",
        "    metrics = train_evaluator.state.metrics\n",
        "    accuracy = metrics['accuracy']*100\n",
        "    loss = metrics['nll']\n",
        "    last_epoch.append(0)\n",
        "    training_history['accuracy'].append(accuracy)\n",
        "    training_history['loss'].append(loss)\n",
        "    print(\"\\nTraining Results - Epoch: {}  Avg accuracy: {:.2f} Avg loss: {:.2f}\"\n",
        "          .format(trainer.state.epoch, accuracy, loss))\n",
        "\n",
        "@trainer.on(Events.EPOCH_COMPLETED)\n",
        "def log_validation_results(trainer):\n",
        "    val_evaluator.run(val_loader)\n",
        "    metrics = val_evaluator.state.metrics\n",
        "    accuracy = metrics['accuracy']*100\n",
        "    loss = metrics['nll']\n",
        "    validation_history['accuracy'].append(accuracy)\n",
        "    validation_history['loss'].append(loss)\n",
        "    print(\"Validation Results - Epoch: {}  Avg accuracy: {:.2f} Avg loss: {:.2f}\"\n",
        "          .format(trainer.state.epoch, accuracy, loss))\n",
        "    \n"
      ]
    },
    {
      "cell_type": "code",
      "execution_count": 18,
      "metadata": {
        "id": "c5Nojl9dR9Wr"
      },
      "outputs": [],
      "source": []
    },
    {
      "cell_type": "markdown",
      "metadata": {
        "id": "A7UCCMVHSu_f"
      },
      "source": [
        "# ####\n",
        "\n",
        "<div dir=rtl>\n",
        "\n",
        "\n",
        "در این قسمت هم ۳ هندلر برای \n",
        "Event\n",
        "پایان یافتن فرایند آموزش تعریف شده است :\n",
        "\n",
        "*هندلر اول که هنگامی که فرایند آموزش تمام شد ، مدل را بر روی داده های Test\n",
        "ارزیابی میکند و نتیجه را چاپ میکند.\n",
        "\n",
        "* هندلر دوم که بعد از پایان یافتن آموزش ، نمودار \n",
        "Accuracy\n",
        "را هم برای داده های Train\n",
        "وهم بر روی داده های Validation\n",
        "بر حسب \n",
        "Epoch\n",
        "رسم میکند.\n",
        "\n",
        "* هندلر سوم که بعد از پایان یافتن آموزش ، نمودار \n",
        "Loss\n",
        "را هم برای داده های Train\n",
        "وهم بر روی داده های Validation\n",
        "بر حسب \n",
        "Epoch\n",
        "رسم میکند.\n",
        "\n",
        "</div>"
      ]
    },
    {
      "cell_type": "code",
      "execution_count": 19,
      "metadata": {
        "id": "1OSEqUs91E1T"
      },
      "outputs": [],
      "source": [
        "@trainer.on(Events.COMPLETED)\n",
        "def finalTest():\n",
        "  test_evaluator.run(test_loader)\n",
        "  metrics = test_evaluator.state.metrics\n",
        "  accuracy = metrics['accuracy']*100\n",
        "  loss = metrics['nll']\n",
        "  print(\"\\n\\nFinal accuracy: {:.2f} Final loss: {:.2f} \"\n",
        "        .format(accuracy,loss))\n",
        "  \n",
        "  \n",
        "@trainer.on(Events.COMPLETED)\n",
        "def plotAccuracy():\n",
        "  plt.plot(training_history['accuracy'],label=\"Training Accuracy\")\n",
        "  plt.plot(validation_history['accuracy'],label=\"Validation Accuracy\")\n",
        "  plt.xlabel('No. of Epochs')\n",
        "  plt.ylabel('Accuracy')\n",
        "  plt.legend(frameon=False)\n",
        "  plt.show()\n",
        "\n",
        "@trainer.on(Events.COMPLETED) \n",
        "def plotLoss():\n",
        "  plt.plot(training_history['loss'],label=\"Training Loss\")\n",
        "  plt.plot(validation_history['loss'],label=\"Validation Loss\")\n",
        "  plt.xlabel('No. of Epochs')\n",
        "  plt.ylabel('Loss')\n",
        "  plt.legend(frameon=False)\n",
        "  plt.show()"
      ]
    },
    {
      "cell_type": "markdown",
      "metadata": {
        "id": "Opg-O9QgUYSg"
      },
      "source": [
        "# ####\n",
        "\n",
        "<div dir=rtl>\n",
        "\n",
        "در این قسمت هم \n",
        "Engine\n",
        "مربوط به فرایند آموزش را شروع میکنیم.\n",
        "\n",
        "</div>"
      ]
    },
    {
      "cell_type": "code",
      "execution_count": 20,
      "metadata": {
        "colab": {
          "base_uri": "https://localhost:8080/",
          "height": 1000
        },
        "id": "K_IlzhqSOhdv",
        "outputId": "1a89b760-ee42-4656-9356-150ff05734d9"
      },
      "outputs": [
        {
          "name": "stdout",
          "output_type": "stream",
          "text": [
            "\n",
            "Training Results - Epoch: 1  Avg accuracy: 88.69 Avg loss: 0.31\n",
            "Validation Results - Epoch: 1  Avg accuracy: 87.70 Avg loss: 0.35\n",
            "\n",
            "Training Results - Epoch: 2  Avg accuracy: 90.93 Avg loss: 0.24\n",
            "Validation Results - Epoch: 2  Avg accuracy: 88.86 Avg loss: 0.29\n",
            "\n",
            "Training Results - Epoch: 3  Avg accuracy: 91.68 Avg loss: 0.22\n",
            "Validation Results - Epoch: 3  Avg accuracy: 89.68 Avg loss: 0.28\n",
            "\n",
            "Training Results - Epoch: 4  Avg accuracy: 92.74 Avg loss: 0.20\n",
            "Validation Results - Epoch: 4  Avg accuracy: 90.60 Avg loss: 0.26\n",
            "\n",
            "Training Results - Epoch: 5  Avg accuracy: 92.23 Avg loss: 0.21\n",
            "Validation Results - Epoch: 5  Avg accuracy: 89.62 Avg loss: 0.28\n",
            "\n",
            "Training Results - Epoch: 6  Avg accuracy: 93.08 Avg loss: 0.18\n",
            "Validation Results - Epoch: 6  Avg accuracy: 90.58 Avg loss: 0.27\n",
            "\n",
            "Training Results - Epoch: 7  Avg accuracy: 95.15 Avg loss: 0.13\n",
            "Validation Results - Epoch: 7  Avg accuracy: 91.82 Avg loss: 0.23\n",
            "\n",
            "\n",
            "Final accuracy: 91.52 Final loss: 0.24 \n"
          ]
        },
        {
          "data": {
            "image/png": "[encoded data removed]",
            "text/plain": [
              "<Figure size 432x288 with 1 Axes>"
            ]
          },
          "metadata": {
            "needs_background": "light"
          },
          "output_type": "display_data"
        },
        {
          "data": {
            "image/png": "[encoded data removed]",
            "text/plain": [
              "<Figure size 432x288 with 1 Axes>"
            ]
          },
          "metadata": {
            "needs_background": "light"
          },
          "output_type": "display_data"
        },
        {
          "data": {
            "text/plain": [
              "State:\n",
              "\titeration: 3283\n",
              "\tepoch: 7\n",
              "\tepoch_length: 469\n",
              "\tmax_epochs: 7\n",
              "\toutput: 0.21604293584823608\n",
              "\tbatch: <class 'list'>\n",
              "\tmetrics: <class 'dict'>\n",
              "\tdataloader: <class 'torch.utils.data.dataloader.DataLoader'>\n",
              "\tseed: <class 'NoneType'>\n",
              "\ttimes: <class 'dict'>"
            ]
          },
          "execution_count": 20,
          "metadata": {},
          "output_type": "execute_result"
        }
      ],
      "source": [
        "trainer.run(train_loader, max_epochs=epochs)\n"
      ]
    }
  ],
  "metadata": {
    "accelerator": "TPU",
    "colab": {
      "collapsed_sections": [],
      "name": "MainCNN.ipynb",
      "provenance": []
    },
    "kernelspec": {
      "display_name": "Python 3",
      "name": "python3"
    },
    "language_info": {
      "name": "python"
    }
  },
  "nbformat": 4,
  "nbformat_minor": 0
}
